{
 "cells": [
  {
   "cell_type": "markdown",
   "metadata": {},
   "source": [
    "# This jupyter notebook is for performing data manipulations on the raw data\n",
    "I have used MFCCs of each audio file as the features for my model. This notebook extracts the MFCCs and also handles dat augmentation.\n",
    "\n",
    "## Loading Libraries"
   ]
  },
  {
   "cell_type": "code",
   "execution_count": 1,
   "metadata": {},
   "outputs": [],
   "source": [
    "import pandas as pd\n",
    "import glob\n",
    "import librosa\n",
    "import librosa.display\n",
    "import numpy as np\n",
    "import matplotlib.pyplot as plt\n",
    "from matplotlib.pyplot import specgram\n",
    "import pandas as pd\n",
    "import os\n",
    "import IPython.display as ipd\n",
    "from tqdm import tqdm_notebook\n",
    "import IPython.display as ipd"
   ]
  },
  {
   "cell_type": "markdown",
   "metadata": {},
   "source": [
    "Getting file paths of the audio files."
   ]
  },
  {
   "cell_type": "code",
   "execution_count": 2,
   "metadata": {},
   "outputs": [
    {
     "name": "stdout",
     "output_type": "stream",
     "text": [
      "1440\n"
     ]
    }
   ],
   "source": [
    "files = glob.glob(r\"D:\\Kaggle\\datasets\\Audio_Speech_Actors_01-24\\RAVDESS/*.wav\")\n",
    "print(len(files)) #total number of audio files"
   ]
  },
  {
   "cell_type": "markdown",
   "metadata": {},
   "source": [
    "Getting the csv file with file names and labels. I have used this dataframe as reference for storing the MFCCs. "
   ]
  },
  {
   "cell_type": "code",
   "execution_count": 3,
   "metadata": {},
   "outputs": [
    {
     "data": {
      "text/html": [
       "<div>\n",
       "<style scoped>\n",
       "    .dataframe tbody tr th:only-of-type {\n",
       "        vertical-align: middle;\n",
       "    }\n",
       "\n",
       "    .dataframe tbody tr th {\n",
       "        vertical-align: top;\n",
       "    }\n",
       "\n",
       "    .dataframe thead th {\n",
       "        text-align: right;\n",
       "    }\n",
       "</style>\n",
       "<table border=\"1\" class=\"dataframe\">\n",
       "  <thead>\n",
       "    <tr style=\"text-align: right;\">\n",
       "      <th></th>\n",
       "      <th>fname</th>\n",
       "      <th>male_angry</th>\n",
       "      <th>male_happy</th>\n",
       "      <th>male_calm</th>\n",
       "      <th>male_fearful</th>\n",
       "      <th>male_sad</th>\n",
       "      <th>female_angry</th>\n",
       "      <th>female_happy</th>\n",
       "      <th>female_calm</th>\n",
       "      <th>female_fearful</th>\n",
       "      <th>female_sad</th>\n",
       "    </tr>\n",
       "  </thead>\n",
       "  <tbody>\n",
       "    <tr>\n",
       "      <th>0</th>\n",
       "      <td>03-01-02-01-01-01-01.wav</td>\n",
       "      <td>0</td>\n",
       "      <td>0</td>\n",
       "      <td>1</td>\n",
       "      <td>0</td>\n",
       "      <td>0</td>\n",
       "      <td>0</td>\n",
       "      <td>0</td>\n",
       "      <td>0</td>\n",
       "      <td>0</td>\n",
       "      <td>0</td>\n",
       "    </tr>\n",
       "    <tr>\n",
       "      <th>1</th>\n",
       "      <td>03-01-02-01-01-01-02.wav</td>\n",
       "      <td>0</td>\n",
       "      <td>0</td>\n",
       "      <td>0</td>\n",
       "      <td>0</td>\n",
       "      <td>0</td>\n",
       "      <td>0</td>\n",
       "      <td>0</td>\n",
       "      <td>1</td>\n",
       "      <td>0</td>\n",
       "      <td>0</td>\n",
       "    </tr>\n",
       "    <tr>\n",
       "      <th>2</th>\n",
       "      <td>03-01-02-01-01-01-03.wav</td>\n",
       "      <td>0</td>\n",
       "      <td>0</td>\n",
       "      <td>1</td>\n",
       "      <td>0</td>\n",
       "      <td>0</td>\n",
       "      <td>0</td>\n",
       "      <td>0</td>\n",
       "      <td>0</td>\n",
       "      <td>0</td>\n",
       "      <td>0</td>\n",
       "    </tr>\n",
       "    <tr>\n",
       "      <th>3</th>\n",
       "      <td>03-01-02-01-01-01-04.wav</td>\n",
       "      <td>0</td>\n",
       "      <td>0</td>\n",
       "      <td>0</td>\n",
       "      <td>0</td>\n",
       "      <td>0</td>\n",
       "      <td>0</td>\n",
       "      <td>0</td>\n",
       "      <td>1</td>\n",
       "      <td>0</td>\n",
       "      <td>0</td>\n",
       "    </tr>\n",
       "    <tr>\n",
       "      <th>4</th>\n",
       "      <td>03-01-02-01-01-01-05.wav</td>\n",
       "      <td>0</td>\n",
       "      <td>0</td>\n",
       "      <td>1</td>\n",
       "      <td>0</td>\n",
       "      <td>0</td>\n",
       "      <td>0</td>\n",
       "      <td>0</td>\n",
       "      <td>0</td>\n",
       "      <td>0</td>\n",
       "      <td>0</td>\n",
       "    </tr>\n",
       "  </tbody>\n",
       "</table>\n",
       "</div>"
      ],
      "text/plain": [
       "                      fname  male_angry  male_happy  male_calm  male_fearful  \\\n",
       "0  03-01-02-01-01-01-01.wav           0           0          1             0   \n",
       "1  03-01-02-01-01-01-02.wav           0           0          0             0   \n",
       "2  03-01-02-01-01-01-03.wav           0           0          1             0   \n",
       "3  03-01-02-01-01-01-04.wav           0           0          0             0   \n",
       "4  03-01-02-01-01-01-05.wav           0           0          1             0   \n",
       "\n",
       "   male_sad  female_angry  female_happy  female_calm  female_fearful  \\\n",
       "0         0             0             0            0               0   \n",
       "1         0             0             0            1               0   \n",
       "2         0             0             0            0               0   \n",
       "3         0             0             0            1               0   \n",
       "4         0             0             0            0               0   \n",
       "\n",
       "   female_sad  \n",
       "0           0  \n",
       "1           0  \n",
       "2           0  \n",
       "3           0  \n",
       "4           0  "
      ]
     },
     "execution_count": 3,
     "metadata": {},
     "output_type": "execute_result"
    }
   ],
   "source": [
    "df = pd.read_csv(r\"D:\\Kaggle\\datasets\\Audio_Speech_Actors_01-24\\RAVDESS\\dataset.csv\",encoding = 'utf-8')\n",
    "df.head()"
   ]
  },
  {
   "cell_type": "markdown",
   "metadata": {},
   "source": [
    "# Augmentation methods\n",
    "Data augmentation can increase model's robustness and also help in increasing the training data size when we only have access to a small dataset. "
   ]
  },
  {
   "cell_type": "code",
   "execution_count": 4,
   "metadata": {},
   "outputs": [],
   "source": [
    "def noise(data):\n",
    "    \"\"\"\n",
    "    Adding White Noise.\n",
    "    \"\"\"\n",
    "    # you can take any distribution from https://docs.scipy.org/doc/numpy-1.13.0/reference/routines.random.html\n",
    "    noise_amp = 0.05*np.random.uniform()*np.amax(data)   # more noise reduce the value to 0.5\n",
    "    data = data.astype('float64') + noise_amp * np.random.normal(size=data.shape[0])\n",
    "    return data\n",
    "    \n",
    "def shift(data):\n",
    "    \"\"\"\n",
    "    Random Shifting.\n",
    "    \"\"\"\n",
    "    s_range = int(np.random.uniform(low=-5, high = 5)*1000)  #default at 500\n",
    "    return np.roll(data, s_range)\n",
    "    \n",
    "def stretch(data, rate=0.8):\n",
    "    \"\"\"\n",
    "    Streching the Sound. Note that this expands the dataset slightly\n",
    "    \"\"\"\n",
    "    data = librosa.effects.time_stretch(data, rate)\n",
    "    return data\n",
    "    \n",
    "def pitch(data, sample_rate):\n",
    "    \"\"\"\n",
    "    Pitch Tuning.\n",
    "    \"\"\"\n",
    "    bins_per_octave = 12\n",
    "    pitch_pm = 2\n",
    "    pitch_change =  pitch_pm * 2*(np.random.uniform())   \n",
    "    data = librosa.effects.pitch_shift(data.astype('float64'), \n",
    "                                      sample_rate, n_steps=pitch_change, \n",
    "                                      bins_per_octave=bins_per_octave)\n",
    "    return data\n",
    "    \n",
    "def dyn_change(data):\n",
    "    \"\"\"\n",
    "    Random Value Change.\n",
    "    \"\"\"\n",
    "    dyn_change = np.random.uniform(low=-0.5 ,high=7)  # default low = 1.5, high = 3\n",
    "    return (data * dyn_change)\n",
    "    \n",
    "def speedNpitch(data):\n",
    "    \"\"\"\n",
    "    speed and Pitch Tuning.\n",
    "    \"\"\"\n",
    "    # you can change low and high here\n",
    "    length_change = np.random.uniform(low=0.8, high = 1)\n",
    "    speed_fac = 1.2  / length_change # try changing 1.0 to 2.0 ... =D\n",
    "    tmp = np.interp(np.arange(0,len(data),speed_fac),np.arange(0,len(data)),data)\n",
    "    minlen = min(data.shape[0], tmp.shape[0])\n",
    "    data *= 0\n",
    "    data[0:minlen] = tmp[0:minlen]\n",
    "    return data"
   ]
  },
  {
   "cell_type": "markdown",
   "metadata": {},
   "source": [
    "# Creating a dictionary to store the MFCCs\n",
    "The code below creates a dictionary which stores the MFCCs of audio files after the neccessary data augmentations. This is done for easy dataloading in the future. The file names are used as keys."
   ]
  },
  {
   "cell_type": "code",
   "execution_count": 5,
   "metadata": {},
   "outputs": [],
   "source": [
    "def get_dictionary(n_mfcc,df=df,augmentation = [],directory ='D:/Kaggle/datasets/Audio_Speech_Actors_01-24/RAVDESS' ):\n",
    "    sample_rate = 44100\n",
    "    dim = (n_mfcc,1 + int(np.floor((sample_rate * 3)/512)))\n",
    "    df_dict = {}\n",
    "    input_length = sample_rate * 3\n",
    "    \n",
    "    for i in tqdm_notebook(range(len(df))):\n",
    "        file_path = str(directory)+ '/' + str(df['fname'][i])\n",
    "        data, _ = librosa.load(file_path, res_type='kaiser_fast',duration=3,sr=22050*2,offset=0.5)\n",
    "        \n",
    "        # Random offset / Padding\n",
    "        if len(data) > input_length:\n",
    "            max_offset = len(data) - input_length\n",
    "            offset = np.random.randint(max_offset)\n",
    "            data = data[offset:(input_length+offset)]\n",
    "        else:\n",
    "            if input_length > len(data):\n",
    "                max_offset = input_length - len(data)\n",
    "                offset = np.random.randint(max_offset)\n",
    "            else:\n",
    "                offset = 0\n",
    "                \n",
    "            data = np.pad(data, (offset, input_length - len(data) - offset), \"constant\") #padding \n",
    "            \n",
    "            #Data augmentation\n",
    "            if(len(augmentation) != 0):\n",
    "                for aug in augmentation:\n",
    "                    if(aug == 'noise'):\n",
    "                        data = noise(data)\n",
    "                    if(aug == 'shift'):\n",
    "                        data = shift(data)\n",
    "                    if(aug == 'stretch'):\n",
    "                        data = stretch(data)\n",
    "                    if(aug == 'pitch'):\n",
    "                        data = pitch(data)\n",
    "                    if(aug == 'dyn_change'):\n",
    "                        data = dyn_change(data)\n",
    "                    if(aug == 'speedNpitch'):\n",
    "                        data = speedNpitch(data)\n",
    "        \n",
    "        #getting the MFCC values\n",
    "        mfcc = librosa.feature.mfcc(data, sr=sample_rate, n_mfcc= dim[0])\n",
    "        df_dict[str(df['fname'][i])] = mfcc   #storing the values in the dictionary with the file name as the key\n",
    "    return df_dict"
   ]
  },
  {
   "cell_type": "markdown",
   "metadata": {},
   "source": [
    "Getting the MFCC dictionary."
   ]
  },
  {
   "cell_type": "code",
   "execution_count": 6,
   "metadata": {},
   "outputs": [
    {
     "data": {
      "application/vnd.jupyter.widget-view+json": {
       "model_id": "69e8cd313e67491cb90452ac5ae42d47",
       "version_major": 2,
       "version_minor": 0
      },
      "text/plain": [
       "HBox(children=(IntProgress(value=0, max=960), HTML(value='')))"
      ]
     },
     "metadata": {},
     "output_type": "display_data"
    },
    {
     "name": "stdout",
     "output_type": "stream",
     "text": [
      "\n"
     ]
    }
   ],
   "source": [
    "df_dict = get_dictionary(n_mfcc = 100,augmentation = ['noise','shift'])"
   ]
  },
  {
   "cell_type": "markdown",
   "metadata": {},
   "source": [
    "### Saving the dictionary as a .npy file."
   ]
  },
  {
   "cell_type": "code",
   "execution_count": 7,
   "metadata": {},
   "outputs": [],
   "source": [
    "np.save('D:/Kaggle/datasets/Audio_Speech_Actors_01-24/RAVDESS/RAVDESS_noise_and_shift_100_259.npy',df_dict)"
   ]
  }
 ],
 "metadata": {
  "kernelspec": {
   "display_name": "Python 3",
   "language": "python",
   "name": "python3"
  },
  "language_info": {
   "codemirror_mode": {
    "name": "ipython",
    "version": 3
   },
   "file_extension": ".py",
   "mimetype": "text/x-python",
   "name": "python",
   "nbconvert_exporter": "python",
   "pygments_lexer": "ipython3",
   "version": "3.7.3"
  }
 },
 "nbformat": 4,
 "nbformat_minor": 2
}
